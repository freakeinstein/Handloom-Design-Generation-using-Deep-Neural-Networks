{
 "cells": [
  {
   "cell_type": "code",
   "execution_count": 1,
   "metadata": {},
   "outputs": [
    {
     "name": "stderr",
     "output_type": "stream",
     "text": [
      "Using TensorFlow backend.\n"
     ]
    }
   ],
   "source": [
    "from __future__ import print_function, division\n",
    "import scipy\n",
    "from keras.callbacks import ModelCheckpoint\n",
    "\n",
    "#from keras_contrib.layers.normalization import Normalization\n",
    "from keras.layers import Input, Dense, Reshape, Flatten, Dropout, Concatenate\n",
    "from keras.layers import BatchNormalization, Activation, ZeroPadding2D\n",
    "from keras.layers.advanced_activations import LeakyReLU\n",
    "from keras.layers.convolutional import UpSampling2D, Conv2D\n",
    "from keras.models import Sequential, Model, load_model\n",
    "from keras.optimizers import Adam\n",
    "import datetime\n",
    "import matplotlib.pyplot as plt\n",
    "plt.switch_backend('agg')\n",
    "import sys\n",
    "from data_loader import DataLoader\n",
    "import numpy as np\n",
    "import os\n",
    "import random\n",
    "from glob import glob\n",
    "from IPython.display import Image"
   ]
  },
  {
   "cell_type": "code",
   "execution_count": 2,
   "metadata": {},
   "outputs": [
    {
     "name": "stderr",
     "output_type": "stream",
     "text": [
      "/home/pisamifa/anaconda3/lib/python3.6/site-packages/scipy/misc/pilutil.py:482: FutureWarning: Conversion of the second argument of issubdtype from `int` to `np.signedinteger` is deprecated. In future, it will be treated as `np.int64 == np.dtype(int).type`.\n",
      "  if issubdtype(ts, int):\n",
      "/home/pisamifa/anaconda3/lib/python3.6/site-packages/scipy/misc/pilutil.py:485: FutureWarning: Conversion of the second argument of issubdtype from `float` to `np.floating` is deprecated. In future, it will be treated as `np.float64 == np.dtype(float).type`.\n",
      "  elif issubdtype(type(size), float):\n",
      "/home/pisamifa/anaconda3/lib/python3.6/site-packages/keras/engine/saving.py:269: UserWarning: No training configuration found in save file: the model was *not* compiled. Compile it manually.\n",
      "  warnings.warn('No training configuration found in save file: '\n"
     ]
    }
   ],
   "source": [
    "\n",
    "os.makedirs('images/saree/handdrawn' ,exist_ok=True)\n",
    "r, c = 1,2\n",
    "img_rows = 256\n",
    "img_cols = 256\n",
    "channels = 3\n",
    "img_shape = (img_rows, img_cols, channels)\n",
    "optimizer = Adam(0.0002, 0.5)\n",
    "# Configure data loader\n",
    "dataset_name = 'saree/new_handloom_saree'\n",
    "data_loader = DataLoader(dataset_name=dataset_name,\n",
    "                              img_res=(img_rows, img_cols))\n",
    "\n",
    "\n",
    "# Calculate output shape of D (PatchGAN)\n",
    "patch = int(img_rows / 2**4)\n",
    "disc_patch = (patch, patch, 1)\n",
    "imgs_A, imgs_B = data_loader.load_data(batch_size=1, is_testing=True)\n",
    "model = load_model('saved_model/actual_model17.h5')\n",
    "\n",
    "\n",
    "model.compile(loss='mse',optimizer=optimizer)\n",
    "\n",
    "# Translate images to the other domain\n",
    "fake_B = model.predict(imgs_A)\n",
    "\n",
    "\n",
    "gen_imgs = np.concatenate([imgs_A, fake_B])\n",
    "\n",
    "# Rescale images 0 - 1\n",
    "gen_imgs = 0.5 * gen_imgs + 0.5\n",
    "\n",
    "titles = ['Original', 'Translated']\n",
    "fig, axs = plt.subplots(r, c)\n",
    "cnt = 0\n",
    "\n",
    "for j in range(c):\n",
    "    axs[j].imshow(gen_imgs[cnt])\n",
    "    axs[ j].set_title(titles[j])\n",
    "    axs[j].axis('off')\n",
    "    cnt += 1\n",
    "fig.savefig(\"images/saree/handdrawn/%d_%d.png\" % (17, random.randint(1,10000000)))\n",
    "plt.close()\n",
    "\n"
   ]
  },
  {
   "cell_type": "code",
   "execution_count": null,
   "metadata": {
    "collapsed": true
   },
   "outputs": [],
   "source": []
  }
 ],
 "metadata": {
  "kernelspec": {
   "display_name": "Python 3",
   "language": "python",
   "name": "python3"
  },
  "language_info": {
   "codemirror_mode": {
    "name": "ipython",
    "version": 3
   },
   "file_extension": ".py",
   "mimetype": "text/x-python",
   "name": "python",
   "nbconvert_exporter": "python",
   "pygments_lexer": "ipython3",
   "version": "3.6.7"
  }
 },
 "nbformat": 4,
 "nbformat_minor": 2
}
